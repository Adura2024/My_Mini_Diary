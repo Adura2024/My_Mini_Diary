{
 "cells": [
  {
   "cell_type": "code",
   "execution_count": 4,
   "id": "07dc6271",
   "metadata": {},
   "outputs": [],
   "source": [
    "class ContactLibrary:\n",
    "    def __init__(self):\n",
    "        self.contacts = {}\n",
    "\n",
    "    def add_contact(self, name, phone_number):\n",
    "        self.contacts[name] = phone_number\n",
    "\n",
    "    def view_contacts(self):\n",
    "        if self.contacts:\n",
    "            print(\"Contacts:\")\n",
    "            for name, phone_number in self.contacts.items():\n",
    "                print(f\"Name: {name}, Phone Number: {phone_number}\")\n",
    "        else:\n",
    "            print(\"No contacts found.\")\n",
    "            "
   ]
  },
  {
   "cell_type": "code",
   "execution_count": null,
   "id": "10de0cb1",
   "metadata": {},
   "outputs": [
    {
     "name": "stdout",
     "output_type": "stream",
     "text": [
      "\n",
      "My mini Diary\n",
      "1. Add Contact\n",
      "2. View Contacts\n",
      "3. Exit\n",
      "Enter your choice: Bolarin Aduragbemisola\n",
      "Invalid choice. Please try again.\n",
      "\n",
      "My mini Diary\n",
      "1. Add Contact\n",
      "2. View Contacts\n",
      "3. Exit\n",
      "Enter your choice: 1\n",
      "Enter contact name: bolarin Aduragbemisola\n",
      "Enter phone number: 09032659528\n",
      "Contact added successfully!\n",
      "\n",
      "My mini Diary\n",
      "1. Add Contact\n",
      "2. View Contacts\n",
      "3. Exit\n",
      "Enter your choice: 2\n",
      "Contacts:\n",
      "Name: bolarin Aduragbemisola, Phone Number: 09032659528\n",
      "\n",
      "My mini Diary\n",
      "1. Add Contact\n",
      "2. View Contacts\n",
      "3. Exit\n"
     ]
    }
   ],
   "source": [
    "def main():\n",
    "    library = ContactLibrary()\n",
    "\n",
    "    while True:\n",
    "        print(\"\\nMy mini Diary\")\n",
    "        print(\"1. Add Contact\")\n",
    "        print(\"2. View Contacts\")\n",
    "        print(\"3. Exit\")\n",
    "        choice = input(\"Enter your choice: \")\n",
    "\n",
    "        if choice == '1':\n",
    "            name = input(\"Enter contact name: \")\n",
    "            phone_number = input(\"Enter phone number: \")\n",
    "            library.add_contact(name, phone_number)\n",
    "            print(\"Contact added successfully!\")\n",
    "\n",
    "        elif choice == '2':\n",
    "            library.view_contacts()\n",
    "\n",
    "        elif choice == '3':\n",
    "            print(\"Exiting...\")\n",
    "            break\n",
    "\n",
    "        else:\n",
    "            print(\"Invalid choice. Please try again.\")\n",
    "\n",
    "if __name__ == \"__main__\":\n",
    "    main()\n",
    "    "
   ]
  },
  {
   "cell_type": "code",
   "execution_count": null,
   "id": "f70a6ec8",
   "metadata": {},
   "outputs": [],
   "source": []
  }
 ],
 "metadata": {
  "kernelspec": {
   "display_name": "Python 3 (ipykernel)",
   "language": "python",
   "name": "python3"
  },
  "language_info": {
   "codemirror_mode": {
    "name": "ipython",
    "version": 3
   },
   "file_extension": ".py",
   "mimetype": "text/x-python",
   "name": "python",
   "nbconvert_exporter": "python",
   "pygments_lexer": "ipython3",
   "version": "3.11.5"
  }
 },
 "nbformat": 4,
 "nbformat_minor": 5
}
